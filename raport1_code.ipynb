{
 "cells": [
  {
   "cell_type": "code",
   "execution_count": 1,
   "id": "sonic-charlotte",
   "metadata": {},
   "outputs": [
    {
     "name": "stderr",
     "output_type": "stream",
     "text": [
      "Warning message:\n",
      "\"pakiet 'ggplot2' został zbudowany w wersji R 4.2.2\"\n",
      "Warning message:\n",
      "\"pakiet 'latex2exp' został zbudowany w wersji R 4.2.2\"\n",
      "Warning message:\n",
      "\"pakiet 'dplyr' został zbudowany w wersji R 4.2.2\"\n",
      "\n",
      "Dołączanie pakietu: 'dplyr'\n",
      "\n",
      "\n",
      "Następujące obiekty zostały zakryte z 'package:stats':\n",
      "\n",
      "    filter, lag\n",
      "\n",
      "\n",
      "Następujące obiekty zostały zakryte z 'package:base':\n",
      "\n",
      "    intersect, setdiff, setequal, union\n",
      "\n",
      "\n",
      "Warning message:\n",
      "\"pakiet 'e1071' został zbudowany w wersji R 4.2.2\"\n",
      "\n",
      "Dołączanie pakietu: 'e1071'\n",
      "\n",
      "\n",
      "Następujący obiekt został zakryty z 'package:pracma':\n",
      "\n",
      "    sigmoid\n",
      "\n",
      "\n",
      "Warning message:\n",
      "\"pakiet 'tseries' został zbudowany w wersji R 4.2.2\"\n",
      "Registered S3 method overwritten by 'quantmod':\n",
      "  method            from\n",
      "  as.zoo.data.frame zoo \n",
      "\n"
     ]
    }
   ],
   "source": [
    "library('ggplot2')\n",
    "library('latex2exp')\n",
    "library('pracma')\n",
    "library('dplyr')\n",
    "library('e1071')\n",
    "library('tseries')"
   ]
  },
  {
   "cell_type": "markdown",
   "id": "balanced-cooking",
   "metadata": {},
   "source": [
    "# Preparing data"
   ]
  },
  {
   "cell_type": "code",
   "execution_count": 2,
   "id": "useful-hartford",
   "metadata": {},
   "outputs": [
    {
     "data": {
      "text/html": [
       "<style>\n",
       ".list-inline {list-style: none; margin:0; padding: 0}\n",
       ".list-inline>li {display: inline-block}\n",
       ".list-inline>li:not(:last-child)::after {content: \"\\00b7\"; padding: 0 .5ex}\n",
       "</style>\n",
       "<ol class=list-inline><li>'gender'</li><li>'race.ethnicity'</li><li>'parental.level.of.education'</li><li>'lunch'</li><li>'test.preparation.course'</li><li>'math.score'</li><li>'reading.score'</li><li>'writing.score'</li></ol>\n"
      ],
      "text/latex": [
       "\\begin{enumerate*}\n",
       "\\item 'gender'\n",
       "\\item 'race.ethnicity'\n",
       "\\item 'parental.level.of.education'\n",
       "\\item 'lunch'\n",
       "\\item 'test.preparation.course'\n",
       "\\item 'math.score'\n",
       "\\item 'reading.score'\n",
       "\\item 'writing.score'\n",
       "\\end{enumerate*}\n"
      ],
      "text/markdown": [
       "1. 'gender'\n",
       "2. 'race.ethnicity'\n",
       "3. 'parental.level.of.education'\n",
       "4. 'lunch'\n",
       "5. 'test.preparation.course'\n",
       "6. 'math.score'\n",
       "7. 'reading.score'\n",
       "8. 'writing.score'\n",
       "\n",
       "\n"
      ],
      "text/plain": [
       "[1] \"gender\"                      \"race.ethnicity\"             \n",
       "[3] \"parental.level.of.education\" \"lunch\"                      \n",
       "[5] \"test.preparation.course\"     \"math.score\"                 \n",
       "[7] \"reading.score\"               \"writing.score\"              "
      ]
     },
     "metadata": {},
     "output_type": "display_data"
    }
   ],
   "source": [
    "data <- read.csv('StudentsPerformance.csv')\n",
    "colnames(data)"
   ]
  },
  {
   "cell_type": "code",
   "execution_count": 3,
   "id": "uniform-phone",
   "metadata": {},
   "outputs": [
    {
     "data": {
      "text/html": [
       "<table class=\"dataframe\">\n",
       "<caption>A matrix: 3 × 3 of type dbl</caption>\n",
       "<thead>\n",
       "\t<tr><th></th><th scope=col>math.score</th><th scope=col>reading.score</th><th scope=col>writing.score</th></tr>\n",
       "</thead>\n",
       "<tbody>\n",
       "\t<tr><th scope=row>math.score</th><td>1.0000000</td><td>0.8175797</td><td>0.8026420</td></tr>\n",
       "\t<tr><th scope=row>reading.score</th><td>0.8175797</td><td>1.0000000</td><td>0.9545981</td></tr>\n",
       "\t<tr><th scope=row>writing.score</th><td>0.8026420</td><td>0.9545981</td><td>1.0000000</td></tr>\n",
       "</tbody>\n",
       "</table>\n"
      ],
      "text/latex": [
       "A matrix: 3 × 3 of type dbl\n",
       "\\begin{tabular}{r|lll}\n",
       "  & math.score & reading.score & writing.score\\\\\n",
       "\\hline\n",
       "\tmath.score & 1.0000000 & 0.8175797 & 0.8026420\\\\\n",
       "\treading.score & 0.8175797 & 1.0000000 & 0.9545981\\\\\n",
       "\twriting.score & 0.8026420 & 0.9545981 & 1.0000000\\\\\n",
       "\\end{tabular}\n"
      ],
      "text/markdown": [
       "\n",
       "A matrix: 3 × 3 of type dbl\n",
       "\n",
       "| <!--/--> | math.score | reading.score | writing.score |\n",
       "|---|---|---|---|\n",
       "| math.score | 1.0000000 | 0.8175797 | 0.8026420 |\n",
       "| reading.score | 0.8175797 | 1.0000000 | 0.9545981 |\n",
       "| writing.score | 0.8026420 | 0.9545981 | 1.0000000 |\n",
       "\n"
      ],
      "text/plain": [
       "              math.score reading.score writing.score\n",
       "math.score    1.0000000  0.8175797     0.8026420    \n",
       "reading.score 0.8175797  1.0000000     0.9545981    \n",
       "writing.score 0.8026420  0.9545981     1.0000000    "
      ]
     },
     "metadata": {},
     "output_type": "display_data"
    }
   ],
   "source": [
    "data1 <- subset(data, select=c('math.score', 'reading.score', 'writing.score'))\n",
    "cor(data1)"
   ]
  },
  {
   "cell_type": "code",
   "execution_count": 4,
   "id": "reverse-growing",
   "metadata": {},
   "outputs": [],
   "source": [
    "X <- data$math.score\n",
    "Y <- data$reading.score\n",
    "df <- data.frame(X=X,Y=Y)"
   ]
  },
  {
   "cell_type": "markdown",
   "id": "ruled-backing",
   "metadata": {},
   "source": [
    "# Basic statictics for X\n",
    "Also including plots and comparison to normal distribution"
   ]
  },
  {
   "cell_type": "code",
   "execution_count": 5,
   "id": "valued-doctor",
   "metadata": {},
   "outputs": [
    {
     "data": {
      "text/plain": [
       "   Min. 1st Qu.  Median    Mean 3rd Qu.    Max. \n",
       "   0.00   57.00   66.00   66.09   77.00  100.00 "
      ]
     },
     "metadata": {},
     "output_type": "display_data"
    }
   ],
   "source": [
    "summary(X)"
   ]
  },
  {
   "cell_type": "code",
   "execution_count": 6,
   "id": "mighty-germany",
   "metadata": {},
   "outputs": [
    {
     "data": {
      "text/html": [
       "66.089"
      ],
      "text/latex": [
       "66.089"
      ],
      "text/markdown": [
       "66.089"
      ],
      "text/plain": [
       "[1] 66.089"
      ]
     },
     "metadata": {},
     "output_type": "display_data"
    },
    {
     "data": {
      "text/html": [
       "-0.278098901517332"
      ],
      "text/latex": [
       "-0.278098901517332"
      ],
      "text/markdown": [
       "-0.278098901517332"
      ],
      "text/plain": [
       "[1] -0.2780989"
      ]
     },
     "metadata": {},
     "output_type": "display_data"
    },
    {
     "data": {
      "text/html": [
       "3.2610652279029"
      ],
      "text/latex": [
       "3.2610652279029"
      ],
      "text/markdown": [
       "3.2610652279029"
      ],
      "text/plain": [
       "[1] 3.261065"
      ]
     },
     "metadata": {},
     "output_type": "display_data"
    },
    {
     "data": {
      "text/html": [
       "229.918997997998"
      ],
      "text/latex": [
       "229.918997997998"
      ],
      "text/markdown": [
       "229.918997997998"
      ],
      "text/plain": [
       "[1] 229.919"
      ]
     },
     "metadata": {},
     "output_type": "display_data"
    },
    {
     "data": {
      "text/html": [
       "15.1630800960095"
      ],
      "text/latex": [
       "15.1630800960095"
      ],
      "text/markdown": [
       "15.1630800960095"
      ],
      "text/plain": [
       "[1] 15.16308"
      ]
     },
     "metadata": {},
     "output_type": "display_data"
    }
   ],
   "source": [
    "mean(X)\n",
    "skewness(X)\n",
    "3+kurtosis(X)\n",
    "var(X)\n",
    "sd(X)"
   ]
  },
  {
   "cell_type": "code",
   "execution_count": 7,
   "id": "distinct-anchor",
   "metadata": {},
   "outputs": [
    {
     "data": {
      "image/png": "[encoded data removed]",
      "text/plain": [
       "plot without title"
      ]
     },
     "metadata": {
      "image/png": {
       "height": 420,
       "width": 420
      }
     },
     "output_type": "display_data"
    }
   ],
   "source": [
    "box_x <- ggplot(mapping=aes(y = X))+\n",
    "    geom_boxplot(col='aquamarine4', fill='lightpink', linewidth=1.5)\n",
    "box_x"
   ]
  },
  {
   "cell_type": "code",
   "execution_count": 8,
   "id": "nutritional-vanilla",
   "metadata": {},
   "outputs": [
    {
     "data": {
      "image/png": "[encoded data removed]",
      "text/plain": [
       "plot without title"
      ]
     },
     "metadata": {
      "image/png": {
       "height": 420,
       "width": 420
      }
     },
     "output_type": "display_data"
    }
   ],
   "source": [
    "X_rozp <- ggplot(mapping=aes(1:length(X),X))+\n",
    "    geom_point(col='aquamarine4')+xlab('n')\n",
    "X_rozp"
   ]
  },
  {
   "cell_type": "code",
   "execution_count": 9,
   "id": "smart-metabolism",
   "metadata": {},
   "outputs": [
    {
     "data": {
      "image/png": "[encoded data removed]",
      "text/plain": [
       "plot without title"
      ]
     },
     "metadata": {
      "image/png": {
       "height": 420,
       "width": 420
      }
     },
     "output_type": "display_data"
    }
   ],
   "source": [
    "X_dens <- ggplot(df, mapping=aes(X))+geom_histogram(aes(y=after_stat(count / sum(count))), \n",
    "                                      binwidth=1, fill='lightpink', col='black')+\n",
    "    geom_density(aes(col='gęstość empiryczna'), linewidth=2) + \n",
    "    stat_function(fun=dnorm, args=list(mean=66.09, sd=15.16), \n",
    "                  aes(col='gęstość teoretyczna'), linewidth=2)+\n",
    "    xlab(TeX('wynik z matematyki'))+ylab('częstość')+\n",
    "    scale_color_manual(values=c('aquamarine3', 'purple'))+\n",
    "    guides(col=guide_legend(title=\"Legenda\"))\n",
    "X_dens"
   ]
  },
  {
   "cell_type": "code",
   "execution_count": 10,
   "id": "after-invasion",
   "metadata": {},
   "outputs": [
    {
     "data": {
      "image/png": "[encoded data removed]",
      "text/plain": [
       "plot without title"
      ]
     },
     "metadata": {
      "image/png": {
       "height": 420,
       "width": 420
      }
     },
     "output_type": "display_data"
    }
   ],
   "source": [
    "X_dyst <- ggplot(df, aes(X))+\n",
    "    stat_ecdf(geom='point', aes(col='dystrybuanta empiryczna'), cex=3)+ \n",
    "    stat_function(fun=pnorm, args=list(mean=66.09, sd=15.16), \n",
    "                  aes(col='dystrybuanta teoretyczna'), linewidth=2)+\n",
    "    xlab(TeX('$x$'))+ylab(TeX('$F(x)$'))+\n",
    "    scale_color_manual(values=c('aquamarine3', 'purple'))+\n",
    "    guides(col=guide_legend(title=\"Legenda\"))\n",
    "X_dyst"
   ]
  },
  {
   "cell_type": "code",
   "execution_count": 11,
   "id": "descending-values",
   "metadata": {},
   "outputs": [
    {
     "data": {
      "image/png": "[encoded data removed]",
      "text/plain": [
       "plot without title"
      ]
     },
     "metadata": {
      "image/png": {
       "height": 420,
       "width": 420
      }
     },
     "output_type": "display_data"
    }
   ],
   "source": [
    "F1 <- ecdf(X)\n",
    "x <- 10:120\n",
    "plot1 <- ggplot(mapping=aes(x,F1(x)))+geom_point(col='maroon', cex=3)+ggtitle('Dystrybuanta empiryczna')\n",
    "plot2 <- plot1 + geom_line(aes(x, pnorm(x,66,15)), col='green', linewidth=2)\n",
    "plot2"
   ]
  },
  {
   "cell_type": "code",
   "execution_count": 12,
   "id": "behavioral-vegetarian",
   "metadata": {},
   "outputs": [
    {
     "data": {
      "image/png": "[encoded data removed]",
      "text/plain": [
       "plot without title"
      ]
     },
     "metadata": {
      "image/png": {
       "height": 420,
       "width": 420
      }
     },
     "output_type": "display_data"
    }
   ],
   "source": [
    "f1 <- density(X)\n",
    "plot3 <- ggplot(mapping=aes(f1$x,f1$y))+geom_point(col='maroon')+ggtitle('gęstość empiryczna')\n",
    "plot4 <- plot3 + geom_line(aes(x, dnorm(x,66,15)), col='green', linewidth=2)\n",
    "plot4"
   ]
  },
  {
   "cell_type": "markdown",
   "id": "descending-workplace",
   "metadata": {},
   "source": [
    "# Basic statictics for Y\n",
    "Also including plots and comparison to normal distribution"
   ]
  },
  {
   "cell_type": "code",
   "execution_count": 13,
   "id": "tender-married",
   "metadata": {},
   "outputs": [
    {
     "data": {
      "text/plain": [
       "   Min. 1st Qu.  Median    Mean 3rd Qu.    Max. \n",
       "  17.00   59.00   70.00   69.17   79.00  100.00 "
      ]
     },
     "metadata": {},
     "output_type": "display_data"
    }
   ],
   "source": [
    "summary(Y)"
   ]
  },
  {
   "cell_type": "code",
   "execution_count": 14,
   "id": "fourth-lexington",
   "metadata": {},
   "outputs": [
    {
     "data": {
      "text/html": [
       "69.169"
      ],
      "text/latex": [
       "69.169"
      ],
      "text/markdown": [
       "69.169"
      ],
      "text/plain": [
       "[1] 69.169"
      ]
     },
     "metadata": {},
     "output_type": "display_data"
    },
    {
     "data": {
      "text/html": [
       "-0.258327722763939"
      ],
      "text/latex": [
       "-0.258327722763939"
      ],
      "text/markdown": [
       "-0.258327722763939"
      ],
      "text/plain": [
       "[1] -0.2583277"
      ]
     },
     "metadata": {},
     "output_type": "display_data"
    },
    {
     "data": {
      "text/html": [
       "2.92023214852764"
      ],
      "text/latex": [
       "2.92023214852764"
      ],
      "text/markdown": [
       "2.92023214852764"
      ],
      "text/plain": [
       "[1] 2.920232"
      ]
     },
     "metadata": {},
     "output_type": "display_data"
    },
    {
     "data": {
      "text/html": [
       "213.165604604605"
      ],
      "text/latex": [
       "213.165604604605"
      ],
      "text/markdown": [
       "213.165604604605"
      ],
      "text/plain": [
       "[1] 213.1656"
      ]
     },
     "metadata": {},
     "output_type": "display_data"
    },
    {
     "data": {
      "text/html": [
       "14.6001919372522"
      ],
      "text/latex": [
       "14.6001919372522"
      ],
      "text/markdown": [
       "14.6001919372522"
      ],
      "text/plain": [
       "[1] 14.60019"
      ]
     },
     "metadata": {},
     "output_type": "display_data"
    }
   ],
   "source": [
    "mean(Y)\n",
    "skewness(Y)\n",
    "3+kurtosis(Y)\n",
    "var(Y)\n",
    "sd(Y)"
   ]
  },
  {
   "cell_type": "code",
   "execution_count": 15,
   "id": "dress-vietnamese",
   "metadata": {},
   "outputs": [
    {
     "data": {
      "image/png": "[encoded data removed]",
      "text/plain": [
       "plot without title"
      ]
     },
     "metadata": {
      "image/png": {
       "height": 420,
       "width": 420
      }
     },
     "output_type": "display_data"
    }
   ],
   "source": [
    "box_y <- ggplot(mapping=aes(y = Y))+\n",
    "    geom_boxplot(col='aquamarine4', fill='lightpink', linewidth=1.5)\n",
    "box_y"
   ]
  },
  {
   "cell_type": "code",
   "execution_count": 16,
   "id": "liquid-injury",
   "metadata": {},
   "outputs": [
    {
     "data": {
      "image/png": "[encoded data removed]",
      "text/plain": [
       "plot without title"
      ]
     },
     "metadata": {
      "image/png": {
       "height": 420,
       "width": 420
      }
     },
     "output_type": "display_data"
    }
   ],
   "source": [
    "Y_rozp <- ggplot(mapping=aes(1:length(Y),Y))+\n",
    "    geom_point(col='aquamarine4')+xlab('n')\n",
    "Y_rozp"
   ]
  },
  {
   "cell_type": "code",
   "execution_count": 17,
   "id": "fiscal-uncle",
   "metadata": {
    "scrolled": false
   },
   "outputs": [
    {
     "data": {
      "image/png": "[encoded data removed]",
      "text/plain": [
       "plot without title"
      ]
     },
     "metadata": {
      "image/png": {
       "height": 420,
       "width": 420
      }
     },
     "output_type": "display_data"
    }
   ],
   "source": [
    "Y_dens <- ggplot(df, mapping=aes(Y))+geom_histogram(aes(y=after_stat(count / sum(count))), \n",
    "                                      binwidth=1, fill='lightpink', col='black')+\n",
    "    geom_density(aes(col='gęstość empiryczna'), linewidth=2) + \n",
    "    stat_function(fun=dnorm, args=list(mean=69.17, sd=14.6), \n",
    "                  aes(col='gęstość teoretyczna'), linewidth=2)+\n",
    "    xlab('wynik z czytania')+ylab('częstość')+\n",
    "    scale_color_manual(values=c('aquamarine3', 'purple'))+\n",
    "    guides(col=guide_legend(title=\"Legenda\"))\n",
    "Y_dens"
   ]
  },
  {
   "cell_type": "code",
   "execution_count": 18,
   "id": "accomplished-canberra",
   "metadata": {},
   "outputs": [
    {
     "data": {
      "image/png": "[encoded data removed]",
      "text/plain": [
       "plot without title"
      ]
     },
     "metadata": {
      "image/png": {
       "height": 420,
       "width": 420
      }
     },
     "output_type": "display_data"
    }
   ],
   "source": [
    "Y_dyst <- ggplot(df, aes(Y))+\n",
    "    stat_ecdf(geom='point', aes(col='dystrybuanta empiryczna'), cex=3)+ \n",
    "    stat_function(fun=pnorm, args=list(mean=69.17, sd=14.6), \n",
    "                  aes(col='dystrybuanta teoretyczna'), linewidth=2)+\n",
    "    xlab(TeX('$y$'))+ylab(TeX('$F(y)$'))+\n",
    "    scale_color_manual(values=c('aquamarine3', 'purple'))+\n",
    "    guides(col=guide_legend(title=\"Legenda\"))\n",
    "Y_dyst"
   ]
  },
  {
   "cell_type": "code",
   "execution_count": 19,
   "id": "growing-broad",
   "metadata": {},
   "outputs": [
    {
     "data": {
      "image/png": "[encoded data removed]",
      "text/plain": [
       "plot without title"
      ]
     },
     "metadata": {
      "image/png": {
       "height": 420,
       "width": 420
      }
     },
     "output_type": "display_data"
    }
   ],
   "source": [
    "F2 <- ecdf(Y)\n",
    "x <- 10:120\n",
    "plot1 <- ggplot(mapping=aes(x,F2(x)))+geom_point(col='maroon', cex=3)+ggtitle('Dystrybuanta empiryczna')\n",
    "plot2 <- plot1 + geom_line(aes(x, pnorm(x,69,15)), col='green', linewidth=2)\n",
    "plot2"
   ]
  },
  {
   "cell_type": "code",
   "execution_count": 20,
   "id": "proprietary-native",
   "metadata": {},
   "outputs": [
    {
     "data": {
      "image/png": "[encoded data removed]",
      "text/plain": [
       "plot without title"
      ]
     },
     "metadata": {
      "image/png": {
       "height": 420,
       "width": 420
      }
     },
     "output_type": "display_data"
    }
   ],
   "source": [
    "f2 <- density(Y)\n",
    "plot3 <- ggplot(mapping=aes(f2$x,f2$y))+geom_point(col='maroon')+ggtitle('gęstość empiryczna')\n",
    "plot4 <- plot3 + geom_line(aes(x, dnorm(x,69,15)), col='green', linewidth=2)\n",
    "plot4"
   ]
  },
  {
   "cell_type": "markdown",
   "id": "ideal-stocks",
   "metadata": {},
   "source": [
    "# Classical Linear Regression Model\n",
    "method: Linear least squares (LLS)"
   ]
  },
  {
   "cell_type": "code",
   "execution_count": 21,
   "id": "laughing-identity",
   "metadata": {},
   "outputs": [],
   "source": [
    "reg_ab <- function(A,B){\n",
    "    x <- mean(A)\n",
    "    y <- mean(B)\n",
    "    b1 <- sum((A)*(B-y))/sum((A-x)^2)\n",
    "    b0 <- y-b1*x\n",
    "    return(list(b1,b0))\n",
    "}"
   ]
  },
  {
   "cell_type": "code",
   "execution_count": 22,
   "id": "sharp-shareware",
   "metadata": {},
   "outputs": [],
   "source": [
    "set.seed(12345)\n",
    "df <- data.frame(X,Y)\n",
    "n <- length(X)\n",
    "df2 <- df[sample(nrow(df)),]\n",
    "X_train <- df2$X[1:(0.8*n)]\n",
    "Y_train <- df2$Y[1:(0.8*n)]\n",
    "X_test <- df2$X[(0.8*n+1):n]\n",
    "Y_test <- df2$Y[(0.8*n+1):n]\n",
    "df_train <- data.frame(X_train,Y_train)\n",
    "df_test <- data.frame(X_test,Y_test)\n"
   ]
  },
  {
   "cell_type": "code",
   "execution_count": 23,
   "id": "compatible-curtis",
   "metadata": {},
   "outputs": [
    {
     "data": {
      "text/plain": [
       "\n",
       "Call:\n",
       "lm(formula = Y_train ~ X_train)\n",
       "\n",
       "Coefficients:\n",
       "(Intercept)      X_train  \n",
       "    17.0455       0.7904  \n"
      ]
     },
     "metadata": {},
     "output_type": "display_data"
    }
   ],
   "source": [
    "lm7 <- lm(Y_train~X_train)\n",
    "lm7\n",
    "lm17 <- polyfit(X_train, Y_train, 1)\n",
    "lm18 <- X_train*lm17[[1]]+lm17[[2]]"
   ]
  },
  {
   "cell_type": "code",
   "execution_count": 24,
   "id": "cubic-latest",
   "metadata": {},
   "outputs": [
    {
     "data": {
      "image/png": "[encoded data removed]",
      "text/plain": [
       "plot without title"
      ]
     },
     "metadata": {
      "image/png": {
       "height": 420,
       "width": 420
      }
     },
     "output_type": "display_data"
    }
   ],
   "source": [
    "plot(X_train, Y_train, ylim=c(0,100))\n",
    "abline(lm7)\n",
    "lines(X_train, lm18)"
   ]
  },
  {
   "cell_type": "code",
   "execution_count": 25,
   "id": "sufficient-messenger",
   "metadata": {},
   "outputs": [
    {
     "data": {
      "image/png": "[encoded data removed]",
      "text/plain": [
       "plot without title"
      ]
     },
     "metadata": {
      "image/png": {
       "height": 420,
       "width": 420
      }
     },
     "output_type": "display_data"
    }
   ],
   "source": [
    "rozpr_train <- ggplot(df_train, aes(X_train, Y_train))+geom_point(col='skyblue')+\n",
    "    xlab('wynik z matematyki')+ylab('wynik z czytania')\n",
    "rozpr_train"
   ]
  },
  {
   "cell_type": "markdown",
   "id": "naval-genius",
   "metadata": {},
   "source": [
    "### A positive correlation"
   ]
  },
  {
   "cell_type": "code",
   "execution_count": 26,
   "id": "sharing-blocking",
   "metadata": {},
   "outputs": [
    {
     "data": {
      "text/html": [
       "0.82060708435367"
      ],
      "text/latex": [
       "0.82060708435367"
      ],
      "text/markdown": [
       "0.82060708435367"
      ],
      "text/plain": [
       "[1] 0.8206071"
      ]
     },
     "metadata": {},
     "output_type": "display_data"
    }
   ],
   "source": [
    "cor(df_train$X_train, df_train$Y_train)"
   ]
  },
  {
   "cell_type": "code",
   "execution_count": 27,
   "id": "mineral-behavior",
   "metadata": {},
   "outputs": [
    {
     "data": {
      "text/html": [
       "<ol>\n",
       "\t<li>0.790432187815036</li>\n",
       "\t<li>17.045547362799</li>\n",
       "</ol>\n"
      ],
      "text/latex": [
       "\\begin{enumerate}\n",
       "\\item 0.790432187815036\n",
       "\\item 17.045547362799\n",
       "\\end{enumerate}\n"
      ],
      "text/markdown": [
       "1. 0.790432187815036\n",
       "2. 17.045547362799\n",
       "\n",
       "\n"
      ],
      "text/plain": [
       "[[1]]\n",
       "[1] 0.7904322\n",
       "\n",
       "[[2]]\n",
       "[1] 17.04555\n"
      ]
     },
     "metadata": {},
     "output_type": "display_data"
    }
   ],
   "source": [
    "wsp <- reg_ab(df_train$X_train,df_train$Y_train)\n",
    "wsp"
   ]
  },
  {
   "cell_type": "code",
   "execution_count": 28,
   "id": "engaging-tomato",
   "metadata": {
    "scrolled": false
   },
   "outputs": [
    {
     "data": {
      "image/png": "[encoded data removed]",
      "text/plain": [
       "plot without title"
      ]
     },
     "metadata": {
      "image/png": {
       "height": 420,
       "width": 420
      }
     },
     "output_type": "display_data"
    }
   ],
   "source": [
    "rozpr_reg_train <- ggplot(df_train, aes(X_train, Y_train))+geom_point(col='skyblue')+ \n",
    "    geom_line(aes(X_train, X_train*wsp[[1]]+wsp[[2]]), col='hotpink', linewidth=2)+\n",
    "    xlab('wynik z matematyki')+ylab('wyynik z czytania')\n",
    "rozpr_reg_train"
   ]
  },
  {
   "cell_type": "markdown",
   "id": "institutional-basin",
   "metadata": {},
   "source": [
    "## SST - Sum of Squares Total"
   ]
  },
  {
   "cell_type": "code",
   "execution_count": 29,
   "id": "conservative-disabled",
   "metadata": {},
   "outputs": [
    {
     "data": {
      "text/html": [
       "175081.28"
      ],
      "text/latex": [
       "175081.28"
      ],
      "text/markdown": [
       "175081.28"
      ],
      "text/plain": [
       "[1] 175081.3"
      ]
     },
     "metadata": {},
     "output_type": "display_data"
    },
    {
     "data": {
      "text/html": [
       "219.125506883605"
      ],
      "text/latex": [
       "219.125506883605"
      ],
      "text/markdown": [
       "219.125506883605"
      ],
      "text/plain": [
       "[1] 219.1255"
      ]
     },
     "metadata": {},
     "output_type": "display_data"
    },
    {
     "data": {
      "text/html": [
       "219.125506883605"
      ],
      "text/latex": [
       "219.125506883605"
      ],
      "text/markdown": [
       "219.125506883605"
      ],
      "text/plain": [
       "[1] 219.1255"
      ]
     },
     "metadata": {},
     "output_type": "display_data"
    }
   ],
   "source": [
    "Y_t <- df_train$Y_train\n",
    "ym <- mean(Y_t)\n",
    "SST <- sum((Y_t-ym)^2)\n",
    "SST\n",
    "SST/(length(Y_t)-1)\n",
    "var(Y_t)"
   ]
  },
  {
   "cell_type": "code",
   "execution_count": 30,
   "id": "stupid-bathroom",
   "metadata": {},
   "outputs": [
    {
     "data": {
      "text/html": [
       "213.165604604605"
      ],
      "text/latex": [
       "213.165604604605"
      ],
      "text/markdown": [
       "213.165604604605"
      ],
      "text/plain": [
       "[1] 213.1656"
      ]
     },
     "metadata": {},
     "output_type": "display_data"
    }
   ],
   "source": [
    "var(df$Y)"
   ]
  },
  {
   "cell_type": "markdown",
   "id": "accomplished-cleanup",
   "metadata": {},
   "source": [
    "## SSR - Sum of Squares Regression"
   ]
  },
  {
   "cell_type": "code",
   "execution_count": 31,
   "id": "headed-physics",
   "metadata": {},
   "outputs": [
    {
     "data": {
      "text/html": [
       "117899.031331815"
      ],
      "text/latex": [
       "117899.031331815"
      ],
      "text/markdown": [
       "117899.031331815"
      ],
      "text/plain": [
       "[1] 117899"
      ]
     },
     "metadata": {},
     "output_type": "display_data"
    },
    {
     "data": {
      "text/html": [
       "147.55823696097"
      ],
      "text/latex": [
       "147.55823696097"
      ],
      "text/markdown": [
       "147.55823696097"
      ],
      "text/plain": [
       "[1] 147.5582"
      ]
     },
     "metadata": {},
     "output_type": "display_data"
    },
    {
     "data": {
      "text/html": [
       "147.55823696097"
      ],
      "text/latex": [
       "147.55823696097"
      ],
      "text/markdown": [
       "147.55823696097"
      ],
      "text/plain": [
       "[1] 147.5582"
      ]
     },
     "metadata": {},
     "output_type": "display_data"
    }
   ],
   "source": [
    "SSR <- sum((df_train$X_train*wsp[[1]]+wsp[[2]]-ym)^2)\n",
    "SSR\n",
    "SSR/(length(Y_t)-1)\n",
    "var(df_train$X_train*wsp[[1]]+wsp[[2]]-ym)"
   ]
  },
  {
   "cell_type": "code",
   "execution_count": 32,
   "id": "meaning-bookmark",
   "metadata": {},
   "outputs": [
    {
     "data": {
      "text/html": [
       "37860.755"
      ],
      "text/latex": [
       "37860.755"
      ],
      "text/markdown": [
       "37860.755"
      ],
      "text/plain": [
       "[1] 37860.75"
      ]
     },
     "metadata": {},
     "output_type": "display_data"
    },
    {
     "data": {
      "text/html": [
       "25656.8197913985"
      ],
      "text/latex": [
       "25656.8197913985"
      ],
      "text/markdown": [
       "25656.8197913985"
      ],
      "text/plain": [
       "[1] 25656.82"
      ]
     },
     "metadata": {},
     "output_type": "display_data"
    },
    {
     "data": {
      "text/html": [
       "128.928742670344"
      ],
      "text/latex": [
       "128.928742670344"
      ],
      "text/markdown": [
       "128.928742670344"
      ],
      "text/plain": [
       "[1] 128.9287"
      ]
     },
     "metadata": {},
     "output_type": "display_data"
    },
    {
     "data": {
      "text/html": [
       "0.677662655998235"
      ],
      "text/latex": [
       "0.677662655998235"
      ],
      "text/markdown": [
       "0.677662655998235"
      ],
      "text/plain": [
       "[1] 0.6776627"
      ]
     },
     "metadata": {},
     "output_type": "display_data"
    }
   ],
   "source": [
    "Y_t1 <- df_test$Y_test\n",
    "ym1 <- mean(Y_t1)\n",
    "SST1 <- sum((Y_t1-ym1)^2)\n",
    "SST1\n",
    "SSR1 <- sum((df_test$X_test*wsp[[1]]+wsp[[2]]-ym1)^2)\n",
    "SSR1\n",
    "SSR1/(length(Y_t1)-1)\n",
    "SSR1/SST1"
   ]
  },
  {
   "cell_type": "markdown",
   "id": "greater-department",
   "metadata": {},
   "source": [
    "## SSE - Sum of Squares Errors"
   ]
  },
  {
   "cell_type": "code",
   "execution_count": 33,
   "id": "innocent-cleaner",
   "metadata": {},
   "outputs": [
    {
     "data": {
      "text/html": [
       "57182.248668185"
      ],
      "text/latex": [
       "57182.248668185"
      ],
      "text/markdown": [
       "57182.248668185"
      ],
      "text/plain": [
       "[1] 57182.25"
      ]
     },
     "metadata": {},
     "output_type": "display_data"
    },
    {
     "data": {
      "text/html": [
       "71.6569532182769"
      ],
      "text/latex": [
       "71.6569532182769"
      ],
      "text/markdown": [
       "71.6569532182769"
      ],
      "text/plain": [
       "[1] 71.65695"
      ]
     },
     "metadata": {},
     "output_type": "display_data"
    },
    {
     "data": {
      "text/html": [
       "71.5672699226346"
      ],
      "text/latex": [
       "71.5672699226346"
      ],
      "text/markdown": [
       "71.5672699226346"
      ],
      "text/plain": [
       "[1] 71.56727"
      ]
     },
     "metadata": {},
     "output_type": "display_data"
    }
   ],
   "source": [
    "SSE <- SST-SSR\n",
    "SSE\n",
    "SSE/(length(Y_t)-2)\n",
    "var(Y_t-df_train$X_train*wsp[[1]]-wsp[[2]])"
   ]
  },
  {
   "cell_type": "markdown",
   "id": "classified-recall",
   "metadata": {},
   "source": [
    "## Coefficient of determination"
   ]
  },
  {
   "cell_type": "code",
   "execution_count": 34,
   "id": "trained-carter",
   "metadata": {},
   "outputs": [
    {
     "data": {
      "text/html": [
       "0.673395986891431"
      ],
      "text/latex": [
       "0.673395986891431"
      ],
      "text/markdown": [
       "0.673395986891431"
      ],
      "text/plain": [
       "[1] 0.673396"
      ]
     },
     "metadata": {},
     "output_type": "display_data"
    }
   ],
   "source": [
    "SSR/SST"
   ]
  },
  {
   "cell_type": "markdown",
   "id": "rough-capital",
   "metadata": {},
   "source": [
    "## Confidence intervals"
   ]
  },
  {
   "cell_type": "code",
   "execution_count": 35,
   "id": "proof-patrol",
   "metadata": {},
   "outputs": [],
   "source": [
    "alpha <- 0.02\n",
    "b0p <- wsp[[2]]\n",
    "b1p <- wsp[[1]]\n",
    "X_base <- df_train$X_train\n",
    "xm <- mean(X_base)\n",
    "Y_base <- df_train$Y_train\n",
    "Yp <- X_base*b1p+b0p\n",
    "n_base <- length(X_base)\n",
    "S2 <- sum((Y_base-Yp)^2)/(n_base-2)\n",
    "tq <- qt(1-alpha/2,n_base-2)\n",
    "left0 <- b0p-tq*sqrt(S2)*sqrt(1/n_base+xm^2/sum((X_base-xm)^2))\n",
    "right0 <- b0p+tq*sqrt(S2)*sqrt(1/n_base+xm^2/sum((X_base-xm)^2))\n",
    "left1 <- b1p-tq*sqrt(S2)/sqrt(sum((X_base-xm)^2))\n",
    "right1 <- b1p+tq*sqrt(S2)/sqrt(sum((X_base-xm)^2))"
   ]
  },
  {
   "cell_type": "markdown",
   "id": "arctic-first",
   "metadata": {},
   "source": [
    "Lets set the significance level to $\\alpha=0.05.$ Therefore the confidence interval is presented as follows:\n",
    "* for $\\beta_0$"
   ]
  },
  {
   "cell_type": "code",
   "execution_count": 36,
   "id": "bright-input",
   "metadata": {},
   "outputs": [
    {
     "data": {
      "text/html": [
       "13.9671222891358"
      ],
      "text/latex": [
       "13.9671222891358"
      ],
      "text/markdown": [
       "13.9671222891358"
      ],
      "text/plain": [
       "[1] 13.96712"
      ]
     },
     "metadata": {},
     "output_type": "display_data"
    },
    {
     "data": {
      "text/html": [
       "20.1239724364623"
      ],
      "text/latex": [
       "20.1239724364623"
      ],
      "text/markdown": [
       "20.1239724364623"
      ],
      "text/plain": [
       "[1] 20.12397"
      ]
     },
     "metadata": {},
     "output_type": "display_data"
    },
    {
     "data": {
      "text/html": [
       "17.045547362799"
      ],
      "text/latex": [
       "17.045547362799"
      ],
      "text/markdown": [
       "17.045547362799"
      ],
      "text/plain": [
       "[1] 17.04555"
      ]
     },
     "metadata": {},
     "output_type": "display_data"
    }
   ],
   "source": [
    "left0\n",
    "right0\n",
    "b0p"
   ]
  },
  {
   "cell_type": "markdown",
   "id": "ancient-angel",
   "metadata": {},
   "source": [
    "* for $\\beta_1$"
   ]
  },
  {
   "cell_type": "code",
   "execution_count": 37,
   "id": "loose-march",
   "metadata": {},
   "outputs": [
    {
     "data": {
      "text/html": [
       "0.74500806899722"
      ],
      "text/latex": [
       "0.74500806899722"
      ],
      "text/markdown": [
       "0.74500806899722"
      ],
      "text/plain": [
       "[1] 0.7450081"
      ]
     },
     "metadata": {},
     "output_type": "display_data"
    },
    {
     "data": {
      "text/html": [
       "0.835856306632852"
      ],
      "text/latex": [
       "0.835856306632852"
      ],
      "text/markdown": [
       "0.835856306632852"
      ],
      "text/plain": [
       "[1] 0.8358563"
      ]
     },
     "metadata": {},
     "output_type": "display_data"
    },
    {
     "data": {
      "text/html": [
       "0.790432187815036"
      ],
      "text/latex": [
       "0.790432187815036"
      ],
      "text/markdown": [
       "0.790432187815036"
      ],
      "text/plain": [
       "[1] 0.7904322"
      ]
     },
     "metadata": {},
     "output_type": "display_data"
    }
   ],
   "source": [
    "left1\n",
    "right1\n",
    "b1p"
   ]
  },
  {
   "cell_type": "code",
   "execution_count": 38,
   "id": "systematic-trade",
   "metadata": {},
   "outputs": [
    {
     "data": {
      "text/html": [
       "71.656953218277"
      ],
      "text/latex": [
       "71.656953218277"
      ],
      "text/markdown": [
       "71.656953218277"
      ],
      "text/plain": [
       "[1] 71.65695"
      ]
     },
     "metadata": {},
     "output_type": "display_data"
    }
   ],
   "source": [
    "S2"
   ]
  },
  {
   "cell_type": "markdown",
   "id": "insured-closing",
   "metadata": {},
   "source": [
    "# Residuals"
   ]
  },
  {
   "cell_type": "code",
   "execution_count": 39,
   "id": "serial-postcard",
   "metadata": {},
   "outputs": [],
   "source": [
    "ei <- df$Y-df$X*wsp[[1]]-wsp[[2]]\n",
    "df_ei <- data.frame(df$X, ei)"
   ]
  },
  {
   "cell_type": "code",
   "execution_count": 40,
   "id": "developed-arbitration",
   "metadata": {
    "scrolled": false
   },
   "outputs": [
    {
     "data": {
      "image/png": "[encoded data removed]",
      "text/plain": [
       "plot without title"
      ]
     },
     "metadata": {
      "image/png": {
       "height": 420,
       "width": 420
      }
     },
     "output_type": "display_data"
    }
   ],
   "source": [
    "ei_plot <- ggplot(df_ei, aes(df.X, ei))+geom_point(col='green')+xlab('wynik z matematyki')+ylab(TeX('residua'))\n",
    "ei_plot"
   ]
  },
  {
   "cell_type": "markdown",
   "id": "atmospheric-jerusalem",
   "metadata": {},
   "source": [
    "## Checking if mean is 0"
   ]
  },
  {
   "cell_type": "code",
   "execution_count": 41,
   "id": "directed-french",
   "metadata": {},
   "outputs": [
    {
     "data": {
      "text/html": [
       "-0.115420223306926"
      ],
      "text/latex": [
       "-0.115420223306926"
      ],
      "text/markdown": [
       "-0.115420223306926"
      ],
      "text/plain": [
       "[1] -0.1154202"
      ]
     },
     "metadata": {},
     "output_type": "display_data"
    }
   ],
   "source": [
    "mean(df_ei$ei)"
   ]
  },
  {
   "cell_type": "markdown",
   "id": "generic-finance",
   "metadata": {},
   "source": [
    "## Checking constance of variance"
   ]
  },
  {
   "cell_type": "code",
   "execution_count": 42,
   "id": "julian-promise",
   "metadata": {},
   "outputs": [
    {
     "data": {
      "text/html": [
       "70.6802912781954"
      ],
      "text/latex": [
       "70.6802912781954"
      ],
      "text/markdown": [
       "70.6802912781954"
      ],
      "text/plain": [
       "[1] 70.68029"
      ]
     },
     "metadata": {},
     "output_type": "display_data"
    }
   ],
   "source": [
    "var(df_ei$ei)"
   ]
  },
  {
   "cell_type": "code",
   "execution_count": 43,
   "id": "particular-daisy",
   "metadata": {},
   "outputs": [
    {
     "data": {
      "text/html": [
       "8.45974408139127"
      ],
      "text/latex": [
       "8.45974408139127"
      ],
      "text/markdown": [
       "8.45974408139127"
      ],
      "text/plain": [
       "[1] 8.459744"
      ]
     },
     "metadata": {},
     "output_type": "display_data"
    },
    {
     "data": {
      "text/html": [
       "8.40715714603905"
      ],
      "text/latex": [
       "8.40715714603905"
      ],
      "text/markdown": [
       "8.40715714603905"
      ],
      "text/plain": [
       "[1] 8.407157"
      ]
     },
     "metadata": {},
     "output_type": "display_data"
    },
    {
     "data": {
      "text/html": [
       "8.19795139471115"
      ],
      "text/latex": [
       "8.19795139471115"
      ],
      "text/markdown": [
       "8.19795139471115"
      ],
      "text/plain": [
       "[1] 8.197951"
      ]
     },
     "metadata": {},
     "output_type": "display_data"
    }
   ],
   "source": [
    "var_vec <- vector()\n",
    "k <- 1\n",
    "temp = 0\n",
    "e123 <- df2$Y-wsp[[1]]*df2$X-wsp[[2]]\n",
    "sd(e123[1:800])\n",
    "sd(e123)\n",
    "sd(e123[801:1000])\n",
    "for(i in seq(10,1000,10)){\n",
    "    var_vec[k] <- var(e123[(temp+1):i])\n",
    "    k <- k+1\n",
    "    \n",
    "}"
   ]
  },
  {
   "cell_type": "code",
   "execution_count": 44,
   "id": "whole-weekend",
   "metadata": {},
   "outputs": [
    {
     "data": {
      "image/png": "[encoded data removed]",
      "text/plain": [
       "plot without title"
      ]
     },
     "metadata": {
      "image/png": {
       "height": 420,
       "width": 420
      }
     },
     "output_type": "display_data"
    }
   ],
   "source": [
    "ei_var <- ggplot(mapping=aes(1:length(seq(10,1000,10)), var_vec))+geom_point(col='green')+\n",
    "    ylab('wariancja błędów')+ xlab('numer grupy 10 błędów')\n",
    "ei_var"
   ]
  },
  {
   "cell_type": "code",
   "execution_count": 45,
   "id": "available-swedish",
   "metadata": {},
   "outputs": [],
   "source": [
    "H <- X %*% solve(t(X)%*%X) %*% t(X)\n",
    "hii <- diag(H)"
   ]
  },
  {
   "cell_type": "code",
   "execution_count": 46,
   "id": "reserved-sucking",
   "metadata": {},
   "outputs": [
    {
     "data": {
      "image/png": "[encoded data removed]",
      "text/plain": [
       "plot without title"
      ]
     },
     "metadata": {
      "image/png": {
       "height": 420,
       "width": 420
      }
     },
     "output_type": "display_data"
    }
   ],
   "source": [
    "em <- var(df_ei$ei)\n",
    "e_n <- df_ei$ei/(sqrt(em*(1-hii)))\n",
    "ggplot(df_ei, aes(df.X, e_n))+geom_point() + ylim(-20,20)"
   ]
  },
  {
   "cell_type": "code",
   "execution_count": 47,
   "id": "separated-living",
   "metadata": {},
   "outputs": [
    {
     "data": {
      "image/png": "[encoded data removed]",
      "text/plain": [
       "plot without title"
      ]
     },
     "metadata": {
      "image/png": {
       "height": 420,
       "width": 420
      }
     },
     "output_type": "display_data"
    }
   ],
   "source": [
    "df3 <- data.frame(df$X*wsp[[1]]+wsp[[2]], ei)\n",
    "colnames(df3) <- c('Yi','ei')\n",
    "df3 <- data.frame(df3 %>% arrange(Yi))\n",
    "ei_var <- ggplot(df3, aes(1:length(ei), ei))+geom_line(col='green')\n",
    "ei_var"
   ]
  },
  {
   "cell_type": "markdown",
   "id": "electronic-serum",
   "metadata": {},
   "source": [
    "## Checking if residuals are correlated"
   ]
  },
  {
   "cell_type": "code",
   "execution_count": 48,
   "id": "original-camcorder",
   "metadata": {},
   "outputs": [],
   "source": [
    "emp_ACVF <- function(X,h){\n",
    "    n <- length(X)\n",
    "    xm <- mean(X)\n",
    "    X1 <- X[1:(n-abs(h))]\n",
    "    X2 <- X[(1+abs(h)):n]\n",
    "    return(1/n*sum((X1-xm)*(X2-xm)))\n",
    "}"
   ]
  },
  {
   "cell_type": "code",
   "execution_count": 49,
   "id": "realistic-abraham",
   "metadata": {},
   "outputs": [],
   "source": [
    "emp_acorr <- function(X,h){\n",
    "    Z <- emp_ACVF(X,h)\n",
    "    Y <- emp_ACVF(X,0)\n",
    "    return(Z/Y)\n",
    "}"
   ]
  },
  {
   "cell_type": "code",
   "execution_count": 50,
   "id": "prescription-hindu",
   "metadata": {},
   "outputs": [],
   "source": [
    "cov <- vector()\n",
    "corr <- vector()\n",
    "for(h in 0:50) cov[h+1] <- emp_ACVF(df_ei$ei, h)\n",
    "for(h in 0:50) corr[h+1] <- emp_acorr(df_ei$ei, h)"
   ]
  },
  {
   "cell_type": "code",
   "execution_count": 51,
   "id": "postal-respondent",
   "metadata": {},
   "outputs": [
    {
     "data": {
      "image/png": "[encoded data removed]",
      "text/plain": [
       "plot without title"
      ]
     },
     "metadata": {
      "image/png": {
       "height": 420,
       "width": 420
      }
     },
     "output_type": "display_data"
    }
   ],
   "source": [
    "ggplot(mapping=aes(0:50, cov))+geom_point(col='hotpink', cex=3)"
   ]
  },
  {
   "cell_type": "code",
   "execution_count": 52,
   "id": "simple-elimination",
   "metadata": {},
   "outputs": [
    {
     "data": {
      "image/png": "[encoded data removed]",
      "text/plain": [
       "plot without title"
      ]
     },
     "metadata": {
      "image/png": {
       "height": 420,
       "width": 420
      }
     },
     "output_type": "display_data"
    }
   ],
   "source": [
    "ei_corr <- ggplot(mapping=aes(0:50, corr))+geom_point(col='hotpink', cex=3)+\n",
    "    xlab(TeX('$h$'))+ylab('empiryczna autokorelacja')\n",
    "ei_corr"
   ]
  },
  {
   "cell_type": "markdown",
   "id": "broken-april",
   "metadata": {},
   "source": [
    "## Normality tests"
   ]
  },
  {
   "cell_type": "code",
   "execution_count": 53,
   "id": "lovely-front",
   "metadata": {},
   "outputs": [
    {
     "data": {
      "text/plain": [
       "\n",
       "\tJarque Bera Test\n",
       "\n",
       "data:  df_ei$ei\n",
       "X-squared = 9.7454, df = 2, p-value = 0.007653\n"
      ]
     },
     "metadata": {},
     "output_type": "display_data"
    }
   ],
   "source": [
    "jarque.bera.test(df_ei$ei)"
   ]
  },
  {
   "cell_type": "code",
   "execution_count": 54,
   "id": "burning-active",
   "metadata": {},
   "outputs": [
    {
     "data": {
      "text/plain": [
       "\n",
       "\tAsymptotic one-sample Kolmogorov-Smirnov test\n",
       "\n",
       "data:  unique(df_ei$ei)\n",
       "D = 0.0434, p-value = 0.1177\n",
       "alternative hypothesis: two-sided\n"
      ]
     },
     "metadata": {},
     "output_type": "display_data"
    }
   ],
   "source": [
    "ks.test(unique(df_ei$ei), \"pnorm\", 0, 8.4, B=1000)"
   ]
  },
  {
   "cell_type": "code",
   "execution_count": 55,
   "id": "devoted-contamination",
   "metadata": {
    "scrolled": true
   },
   "outputs": [
    {
     "data": {
      "text/plain": [
       "\n",
       "\tShapiro-Wilk normality test\n",
       "\n",
       "data:  df_ei$ei\n",
       "W = 0.9956, p-value = 0.005716\n"
      ]
     },
     "metadata": {},
     "output_type": "display_data"
    }
   ],
   "source": [
    "shapiro.test(df_ei$ei)"
   ]
  },
  {
   "cell_type": "markdown",
   "id": "random-experience",
   "metadata": {},
   "source": [
    "## Comparing distribution of the residuals with $\\mathcal{N}\\left(0,8.4\\right)$"
   ]
  },
  {
   "cell_type": "code",
   "execution_count": 56,
   "id": "greater-storage",
   "metadata": {},
   "outputs": [
    {
     "data": {
      "image/png": "[encoded data removed]",
      "text/plain": [
       "plot without title"
      ]
     },
     "metadata": {
      "image/png": {
       "height": 420,
       "width": 420
      }
     },
     "output_type": "display_data"
    }
   ],
   "source": [
    "dens <- ggplot(df_ei, aes(ei))+geom_histogram(aes(y=after_stat(count / sum(count))), \n",
    "                                      binwidth=1, fill='lightpink', col='black')+\n",
    "    geom_density(aes(col='gęstość empiryczna'), linewidth=2) + \n",
    "    stat_function(fun=dnorm, args=list(mean=0, sd=8.4), \n",
    "                  aes(col='gęstość teoretyczna'), linewidth=2)+\n",
    "    xlab('residua')+ylab('częstość')+\n",
    "    scale_color_manual(values=c('aquamarine3', 'purple'))+\n",
    "    guides(col=guide_legend(title=\"Legenda\"))\n",
    "dens"
   ]
  },
  {
   "cell_type": "code",
   "execution_count": 57,
   "id": "grateful-inquiry",
   "metadata": {},
   "outputs": [
    {
     "data": {
      "image/png": "[encoded data removed]",
      "text/plain": [
       "plot without title"
      ]
     },
     "metadata": {
      "image/png": {
       "height": 420,
       "width": 420
      }
     },
     "output_type": "display_data"
    }
   ],
   "source": [
    "dyst <- ggplot(df_ei, aes(ei))+\n",
    "    stat_ecdf(geom='point', aes(col='dystrybuanta empiryczna'), cex=3)+ \n",
    "    stat_function(fun=pnorm, args=list(mean=0, sd=8.4), \n",
    "                  aes(col='dystrybuanta teoretyczna'), linewidth=2)+\n",
    "    xlab(TeX('$e_i$'))+ ylab(TeX('$F(e_i)$'))+\n",
    "    scale_color_manual(values=c('aquamarine3', 'purple'))+\n",
    "    guides(col=guide_legend(title=\"Legenda\"))\n",
    "dyst"
   ]
  },
  {
   "cell_type": "code",
   "execution_count": 58,
   "id": "wicked-degree",
   "metadata": {},
   "outputs": [
    {
     "data": {
      "image/png": "[encoded data removed]",
      "text/plain": [
       "plot without title"
      ]
     },
     "metadata": {
      "image/png": {
       "height": 420,
       "width": 420
      }
     },
     "output_type": "display_data"
    }
   ],
   "source": [
    "qqplot <- ggplot(df_ei, aes(sample=ei)) + stat_qq(aes(col='rozkład residuów'), \n",
    "                                        distribution = stats::qnorm,\n",
    "                                        dparams = list(mean=0, sd=8.5)) +\n",
    "    stat_qq_line(aes(col='rozkład normalny'), linewidth=1.5, \n",
    "                 distribution = stats::qnorm,\n",
    "                 dparams = list(mean=0, sd=8.4))+\n",
    "    xlab(TeX('$N\\\\,(0,8.4)$'))+ ylab('rozkład residuów')+\n",
    "    scale_color_manual(values=c('aquamarine3', 'purple'))+\n",
    "    guides(col=guide_legend(title=\"Legenda\"))\n",
    "qqplot"
   ]
  },
  {
   "cell_type": "markdown",
   "id": "native-thinking",
   "metadata": {},
   "source": [
    "# Checking the quality of linear regression model fit"
   ]
  },
  {
   "cell_type": "code",
   "execution_count": 59,
   "id": "controlled-vision",
   "metadata": {},
   "outputs": [
    {
     "name": "stderr",
     "output_type": "stream",
     "text": [
      "Warning message:\n",
      "\"\u001b[1m\u001b[22mRemoved 600 rows containing missing values (`geom_point()`).\"\n"
     ]
    },
    {
     "data": {
      "image/png": "[encoded data removed]",
      "text/plain": [
       "plot without title"
      ]
     },
     "metadata": {
      "image/png": {
       "height": 420,
       "width": 420
      }
     },
     "output_type": "display_data"
    }
   ],
   "source": [
    "na_df <- data.frame(rep(NA, 600), rep(NA, 600))\n",
    "colnames(na_df) <- c('X_test', 'Y_test')\n",
    "df_new <- rbind(df_test,na_df)\n",
    "rozp <- ggplot(df_new)+geom_point(aes(X_test, Y_test, col='dane testowe'))+ \n",
    "    geom_point(aes(df_train$X_train, df_train$Y_train,col='dane treningowe'))+ \n",
    "    geom_line(aes(df_train$X_train,df_train$X_train*wsp[[1]]+wsp[[2]],col='prosta regresji'), linewidth=2)+\n",
    "    xlab('wynik z matematyki')+ylab('wynik z czytania')+\n",
    "    scale_color_manual(values=c('hotpink', 'skyblue', 'purple'))+\n",
    "    guides(col=guide_legend(title=\"Legenda\"))\n",
    "rozp"
   ]
  },
  {
   "cell_type": "markdown",
   "id": "institutional-radar",
   "metadata": {},
   "source": [
    "## Calculating confidence intervals"
   ]
  },
  {
   "cell_type": "code",
   "execution_count": 60,
   "id": "miniature-family",
   "metadata": {},
   "outputs": [],
   "source": [
    "alpha <- 0.02\n",
    "b0p <- wsp[[2]]\n",
    "b1p <- wsp[[1]]\n",
    "X_new <- df_test$X_test\n",
    "xm <- mean(X_new)\n",
    "Y_new <- df_test$Y_test\n",
    "Ypt <- X_new*b1p+b0p\n",
    "n_new <- length(X_new)\n",
    "S2t <- sum((Y_new-Ypt)^2)/(n_new-2)\n",
    "tq <- qt(1-alpha/2,n_new-2)\n",
    "left0t <- b0p-tq*sqrt(S2)*sqrt(1/n_new+xm^2/sum((X_new-xm)^2))\n",
    "right0t <- b0p+tq*sqrt(S2)*sqrt(1/n_new+xm^2/sum((X_new-xm)^2))\n",
    "left1t <- b1p-tq*sqrt(S2)/sqrt(sum((X_new-xm)^2))\n",
    "right1t <- b1p+tq*sqrt(S2)/sqrt(sum((X_new-xm)^2))"
   ]
  },
  {
   "cell_type": "code",
   "execution_count": 61,
   "id": "circular-hammer",
   "metadata": {},
   "outputs": [
    {
     "data": {
      "text/html": [
       "10.3808349667556"
      ],
      "text/latex": [
       "10.3808349667556"
      ],
      "text/markdown": [
       "10.3808349667556"
      ],
      "text/plain": [
       "[1] 10.38083"
      ]
     },
     "metadata": {},
     "output_type": "display_data"
    },
    {
     "data": {
      "text/html": [
       "23.7102597588424"
      ],
      "text/latex": [
       "23.7102597588424"
      ],
      "text/markdown": [
       "23.7102597588424"
      ],
      "text/plain": [
       "[1] 23.71026"
      ]
     },
     "metadata": {},
     "output_type": "display_data"
    },
    {
     "data": {
      "text/html": [
       "17.045547362799"
      ],
      "text/latex": [
       "17.045547362799"
      ],
      "text/markdown": [
       "17.045547362799"
      ],
      "text/plain": [
       "[1] 17.04555"
      ]
     },
     "metadata": {},
     "output_type": "display_data"
    }
   ],
   "source": [
    "left0t\n",
    "right0t\n",
    "b0p"
   ]
  },
  {
   "cell_type": "code",
   "execution_count": 62,
   "id": "narrow-miniature",
   "metadata": {},
   "outputs": [
    {
     "data": {
      "text/html": [
       "0.692334107444986"
      ],
      "text/latex": [
       "0.692334107444986"
      ],
      "text/markdown": [
       "0.692334107444986"
      ],
      "text/plain": [
       "[1] 0.6923341"
      ]
     },
     "metadata": {},
     "output_type": "display_data"
    },
    {
     "data": {
      "text/html": [
       "0.888530268185085"
      ],
      "text/latex": [
       "0.888530268185085"
      ],
      "text/markdown": [
       "0.888530268185085"
      ],
      "text/plain": [
       "[1] 0.8885303"
      ]
     },
     "metadata": {},
     "output_type": "display_data"
    },
    {
     "data": {
      "text/html": [
       "0.790432187815036"
      ],
      "text/latex": [
       "0.790432187815036"
      ],
      "text/markdown": [
       "0.790432187815036"
      ],
      "text/plain": [
       "[1] 0.7904322"
      ]
     },
     "metadata": {},
     "output_type": "display_data"
    }
   ],
   "source": [
    "left1t\n",
    "right1t\n",
    "b1p"
   ]
  },
  {
   "cell_type": "code",
   "execution_count": 63,
   "id": "regulated-provincial",
   "metadata": {},
   "outputs": [
    {
     "data": {
      "text/html": [
       "71.656953218277"
      ],
      "text/latex": [
       "71.656953218277"
      ],
      "text/markdown": [
       "71.656953218277"
      ],
      "text/plain": [
       "[1] 71.65695"
      ]
     },
     "metadata": {},
     "output_type": "display_data"
    }
   ],
   "source": [
    "S2"
   ]
  },
  {
   "cell_type": "code",
   "execution_count": 64,
   "id": "comfortable-affect",
   "metadata": {},
   "outputs": [
    {
     "data": {
      "text/html": [
       "67.8822431650523"
      ],
      "text/latex": [
       "67.8822431650523"
      ],
      "text/markdown": [
       "67.8822431650523"
      ],
      "text/plain": [
       "[1] 67.88224"
      ]
     },
     "metadata": {},
     "output_type": "display_data"
    }
   ],
   "source": [
    "S2t"
   ]
  },
  {
   "cell_type": "markdown",
   "id": "caring-attack",
   "metadata": {},
   "source": [
    "## Confidence intervals for test data"
   ]
  },
  {
   "cell_type": "code",
   "execution_count": 65,
   "id": "express-muslim",
   "metadata": {},
   "outputs": [],
   "source": [
    "uf_prog_nieznana <- function(X,Y,x0,alpha){\n",
    "    n <- length(X)\n",
    "    xm <- mean(X)\n",
    "    ym <- mean(Y)\n",
    "    tq <- qt(1-alpha/2,n-2)\n",
    "    b1p <- sum((X-xm)*(Y-ym))/sum((X-xm)^2)\n",
    "    b0p <- ym-b1p*xm\n",
    "    y0p <- b0p+b1p*x0\n",
    "    Yp <- b0p+b1p*X\n",
    "    s2 <- sum((Y-Yp)^2)/(n-2)\n",
    "    leftn <- y0p-tq*sqrt(s2)*sqrt(1+1/n+(x0-xm)^2/sum((X-xm)^2))\n",
    "    rightn <- y0p+tq*sqrt(s2)*sqrt(1+1/n+(x0-xm)^2/sum((X-xm)^2))\n",
    "    result <- data.frame(leftn, rightn)\n",
    "    colnames(result) <- c('left', 'right')\n",
    "    return(result)\n",
    "}"
   ]
  },
  {
   "cell_type": "code",
   "execution_count": 66,
   "id": "backed-taste",
   "metadata": {},
   "outputs": [],
   "source": [
    "left <- vector()\n",
    "right <- vector()\n",
    "for(i in 1:length(X_test)){\n",
    "    temp <- uf_prog_nieznana(df_train$X_train, df_train$Y_train, X_test[i], 0.02)\n",
    "    left[i] <- temp$left\n",
    "    right[i] <- temp$right\n",
    "}"
   ]
  },
  {
   "cell_type": "code",
   "execution_count": 67,
   "id": "theoretical-louisiana",
   "metadata": {},
   "outputs": [],
   "source": [
    "X_base <- df_train$X_train\n",
    "xm <- mean(X_base)\n",
    "Y_base <- df_train$Y_train\n",
    "#Yp <- X_base*b1p+b0p"
   ]
  },
  {
   "cell_type": "code",
   "execution_count": 68,
   "id": "advanced-biography",
   "metadata": {},
   "outputs": [
    {
     "data": {
      "text/html": [
       "0.82060708435367"
      ],
      "text/latex": [
       "0.82060708435367"
      ],
      "text/markdown": [
       "0.82060708435367"
      ],
      "text/plain": [
       "[1] 0.8206071"
      ]
     },
     "metadata": {},
     "output_type": "display_data"
    },
    {
     "data": {
      "text/html": [
       "175081.28"
      ],
      "text/latex": [
       "175081.28"
      ],
      "text/markdown": [
       "175081.28"
      ],
      "text/plain": [
       "[1] 175081.3"
      ]
     },
     "metadata": {},
     "output_type": "display_data"
    },
    {
     "data": {
      "text/html": [
       "117899.031331815"
      ],
      "text/latex": [
       "117899.031331815"
      ],
      "text/markdown": [
       "117899.031331815"
      ],
      "text/plain": [
       "[1] 117899"
      ]
     },
     "metadata": {},
     "output_type": "display_data"
    },
    {
     "data": {
      "text/html": [
       "57182.248668185"
      ],
      "text/latex": [
       "57182.248668185"
      ],
      "text/markdown": [
       "57182.248668185"
      ],
      "text/plain": [
       "[1] 57182.25"
      ]
     },
     "metadata": {},
     "output_type": "display_data"
    },
    {
     "data": {
      "text/html": [
       "175081.28"
      ],
      "text/latex": [
       "175081.28"
      ],
      "text/markdown": [
       "175081.28"
      ],
      "text/plain": [
       "[1] 175081.3"
      ]
     },
     "metadata": {},
     "output_type": "display_data"
    },
    {
     "data": {
      "text/html": [
       "0.673395986891431"
      ],
      "text/latex": [
       "0.673395986891431"
      ],
      "text/markdown": [
       "0.673395986891431"
      ],
      "text/plain": [
       "[1] 0.673396"
      ]
     },
     "metadata": {},
     "output_type": "display_data"
    }
   ],
   "source": [
    "cor(X_base,Y_base)\n",
    "ym <- mean(Y_base)\n",
    "SST <- sum((Y_base-ym)^2)\n",
    "SST\n",
    "SSR <- sum((Yp-ym)^2)\n",
    "SSR\n",
    "SSE <- sum((Y_base-Yp)^2)\n",
    "SSE\n",
    "SSR+SSE\n",
    "SSR/SST"
   ]
  },
  {
   "cell_type": "code",
   "execution_count": 69,
   "id": "victorian-wholesale",
   "metadata": {},
   "outputs": [
    {
     "data": {
      "text/html": [
       "212952.439"
      ],
      "text/latex": [
       "212952.439"
      ],
      "text/markdown": [
       "212952.439"
      ],
      "text/plain": [
       "[1] 212952.4"
      ]
     },
     "metadata": {},
     "output_type": "display_data"
    },
    {
     "data": {
      "text/html": [
       "143519.163672104"
      ],
      "text/latex": [
       "143519.163672104"
      ],
      "text/markdown": [
       "143519.163672104"
      ],
      "text/plain": [
       "[1] 143519.2"
      ]
     },
     "metadata": {},
     "output_type": "display_data"
    },
    {
     "data": {
      "text/html": [
       "70622.9328148654"
      ],
      "text/latex": [
       "70622.9328148654"
      ],
      "text/markdown": [
       "70622.9328148654"
      ],
      "text/plain": [
       "[1] 70622.93"
      ]
     },
     "metadata": {},
     "output_type": "display_data"
    },
    {
     "data": {
      "text/html": [
       "214142.09648697"
      ],
      "text/latex": [
       "214142.09648697"
      ],
      "text/markdown": [
       "214142.09648697"
      ],
      "text/plain": [
       "[1] 214142.1"
      ]
     },
     "metadata": {},
     "output_type": "display_data"
    },
    {
     "data": {
      "text/html": [
       "0.673949377363573"
      ],
      "text/latex": [
       "0.673949377363573"
      ],
      "text/markdown": [
       "0.673949377363573"
      ],
      "text/plain": [
       "[1] 0.6739494"
      ]
     },
     "metadata": {},
     "output_type": "display_data"
    }
   ],
   "source": [
    "ym <- mean(Y)\n",
    "SST <- sum((Y-ym)^2)\n",
    "SST\n",
    "SSR <- sum((wsp[[1]]*X+wsp[[2]]-ym)^2)\n",
    "SSR\n",
    "SSE <- sum((Y-wsp[[1]]*X-wsp[[2]])^2)\n",
    "SSE\n",
    "SSR+SSE\n",
    "SSR/SST"
   ]
  },
  {
   "cell_type": "code",
   "execution_count": 70,
   "id": "unable-murray",
   "metadata": {},
   "outputs": [
    {
     "name": "stderr",
     "output_type": "stream",
     "text": [
      "Warning message:\n",
      "\"\u001b[1m\u001b[22mRemoved 600 rows containing missing values (`geom_point()`).\"\n",
      "Warning message:\n",
      "\"\u001b[1m\u001b[22mRemoved 600 rows containing missing values (`geom_line()`).\"\n",
      "Warning message:\n",
      "\"\u001b[1m\u001b[22mRemoved 600 rows containing missing values (`geom_line()`).\"\n"
     ]
    },
    {
     "data": {
      "image/png": "[encoded data removed]",
      "text/plain": [
       "plot without title"
      ]
     },
     "metadata": {
      "image/png": {
       "height": 420,
       "width": 420
      }
     },
     "output_type": "display_data"
    }
   ],
   "source": [
    "left1 <- c(left, rep(NA, 600))\n",
    "right1 <- c(right, rep(NA, 600))\n",
    "rozp2 <- ggplot(df_new)+geom_point(aes(X_test, Y_test, col='dane testowe'))+ \n",
    "    geom_point(aes(X_base, Y_base,col='dane treningowe'))+ \n",
    "    geom_line(aes(X_base, X_base*wsp[[1]]+wsp[[2]],col='prosta regresji'), linewidth=2)+\n",
    "    geom_line(aes(X_test, left1, col='granice przedziału \\nufności'), linewidth=2)+\n",
    "    geom_line(aes(X_test, right1, col='granice przedziału \\nufności'), linewidth=2)+\n",
    "    xlab('wynik z matematyki')+ylab('wynik z czytania')+\n",
    "    scale_color_manual(values=c('hotpink', 'skyblue', 'green', 'purple'))+\n",
    "    guides(col=guide_legend(title=\"Legenda\"))\n",
    "rozp2"
   ]
  },
  {
   "cell_type": "code",
   "execution_count": 71,
   "id": "assured-waste",
   "metadata": {},
   "outputs": [
    {
     "data": {
      "image/png": "[encoded data removed]",
      "text/plain": [
       "plot without title"
      ]
     },
     "metadata": {
      "image/png": {
       "height": 420,
       "width": 420
      }
     },
     "output_type": "display_data"
    }
   ],
   "source": [
    "rozp3 <- ggplot(df_test)+geom_point(aes(X_test, Y_test, col='dane testowe'))+ \n",
    "    geom_line(aes(X_test, X_test*wsp[[1]]+wsp[[2]],col='prosta regresji'), linewidth=2)+\n",
    "    geom_line(aes(X_test, left, col='granice przedziału \\nufności'), linewidth=2)+\n",
    "    geom_line(aes(X_test, right, col='granice przedziału \\nufności'), linewidth=2)+\n",
    "    xlab('wynik z matematyki')+ylab('wynik z czytania')+\n",
    "    scale_color_manual(values=c('hotpink', 'green', 'purple'))+\n",
    "    guides(col=guide_legend(title=\"Legenda\"))\n",
    "rozp3"
   ]
  },
  {
   "cell_type": "code",
   "execution_count": null,
   "id": "sporting-nickname",
   "metadata": {},
   "outputs": [],
   "source": []
  }
 ],
 "metadata": {
  "kernelspec": {
   "display_name": "R",
   "language": "R",
   "name": "ir"
  },
  "language_info": {
   "codemirror_mode": "r",
   "file_extension": ".r",
   "mimetype": "text/x-r-source",
   "name": "R",
   "pygments_lexer": "r",
   "version": "4.2.1"
  }
 },
 "nbformat": 4,
 "nbformat_minor": 5
}
